{
 "cells": [
  {
   "cell_type": "markdown",
   "metadata": {
    "collapsed": true
   },
   "source": [
    "# IBM Sumission Exercise"
   ]
  },
  {
   "cell_type": "markdown",
   "metadata": {},
   "source": [
    "### Author: David Lopez Gonzalez."
   ]
  },
  {
   "cell_type": "markdown",
   "metadata": {},
   "source": [
    "My name is David Lopez Gonzalez. I am currently studying a course about Data Science. I will be submitting some exercises below:"
   ]
  },
  {
   "cell_type": "markdown",
   "metadata": {},
   "source": [
    "The main examples of data science languages are:\n",
    "1. Python.\n",
    "2. R.\n",
    "3. SQL."
   ]
  },
  {
   "cell_type": "markdown",
   "metadata": {},
   "source": [
    "There are multiple data science libraries. Some examples are:\n",
    "- Pandas.\n",
    "- TensorFLow.\n",
    "- Matplotlib.\n",
    "- Numpy.\n",
    "- Pytorch.\n",
    "- Keras."
   ]
  },
  {
   "cell_type": "markdown",
   "metadata": {},
   "source": [
    "| Data Science Tools |\n",
    "| :---: |\n",
    "| Jupyter Notebook |\n",
    "| IBM Watson Studio |\n",
    "| Apache Spark |"
   ]
  },
  {
   "cell_type": "markdown",
   "metadata": {},
   "source": [
    "Some **arithmetic expression** examples are: \n",
    "- $4*0.5$\n",
    "- $\\sqrt{27}$\n",
    "- $\\frac{1}{3}+5$"
   ]
  },
  {
   "cell_type": "code",
   "execution_count": 1,
   "metadata": {},
   "outputs": [
    {
     "name": "stdout",
     "output_type": "stream",
     "text": [
      "35\n"
     ]
    }
   ],
   "source": [
    "a = 5\n",
    "b = 7\n",
    "print(a*b)"
   ]
  },
  {
   "cell_type": "code",
   "execution_count": 13,
   "metadata": {},
   "outputs": [
    {
     "name": "stdout",
     "output_type": "stream",
     "text": [
      "Introduce the number of minutes to convert: 50\n",
      "50 minutes is equivalent to 0.83 hours\n"
     ]
    }
   ],
   "source": [
    "x = int(input(\"Introduce the number of minutes to convert: \"))\n",
    "hours = x/60\n",
    "print(str(x)+\" minutes is equivalent to \"+str(round(hours, 2))+ \" hours\")"
   ]
  },
  {
   "cell_type": "markdown",
   "metadata": {},
   "source": [
    "My main *objectives* this month are:\n",
    "1. To successfully pass this exercise.\n",
    "2. To graduate from this course.\n",
    "3. To get better at Python and become a data scientist."
   ]
  }
 ],
 "metadata": {
  "kernelspec": {
   "display_name": "Python 3.10",
   "language": "python",
   "name": "python3"
  },
  "language_info": {
   "codemirror_mode": {
    "name": "ipython",
    "version": 3
   },
   "file_extension": ".py",
   "mimetype": "text/x-python",
   "name": "python",
   "nbconvert_exporter": "python",
   "pygments_lexer": "ipython3",
   "version": "3.10.9"
  }
 },
 "nbformat": 4,
 "nbformat_minor": 1
}
