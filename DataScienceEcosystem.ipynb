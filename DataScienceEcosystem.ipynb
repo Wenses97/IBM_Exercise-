{
 "cells": [
  {
   "cell_type": "markdown",
   "metadata": {
    "collapsed": true
   },
   "source": [
    "# Data Science Tools and Ecosystem"
   ]
  },
  {
   "cell_type": "markdown",
   "metadata": {},
   "source": [
    "My name is David Lopez Gonzalez. I am currently studying a course about Data Science. In this notebook, Data Science Tools and Ecosystem are summarized. I will be submitting some exercises below:"
   ]
  },
  {
   "cell_type": "markdown",
   "metadata": {},
   "source": [
    "Some of the popular languages that Data Scientists use are:\n",
    "1. Python.\n",
    "2. R.\n",
    "3. SQL."
   ]
  },
  {
   "cell_type": "markdown",
   "metadata": {},
   "source": [
    "There are multiple data science libraries. Some examples are:\n",
    "1. Pandas.\n",
    "2. TensorFLow.\n",
    "3. Matplotlib.\n",
    "4. Numpy.\n",
    "5. Pytorch.\n",
    "6. Keras."
   ]
  },
  {
   "cell_type": "markdown",
   "metadata": {},
   "source": [
    "| Data Science Tools |\n",
    "| :---: |\n",
    "| Jupyter Notebook |\n",
    "| IBM Watson Studio |\n",
    "| Apache Spark |"
   ]
  },
  {
   "cell_type": "markdown",
   "metadata": {},
   "source": [
    "### Some **arithmetic expression** examples are: \n",
    "- $4*0.5$\n",
    "- $\\sqrt{27}$\n",
    "- $\\frac{1}{3}+5$"
   ]
  },
  {
   "cell_type": "code",
   "execution_count": 1,
   "metadata": {},
   "outputs": [
    {
     "data": {
      "text/plain": [
       "17"
      ]
     },
     "execution_count": 1,
     "metadata": {},
     "output_type": "execute_result"
    }
   ],
   "source": [
    "# This a simple arithmetic expression to mutiply then add integers.\n",
    "(3*4)+5"
   ]
  },
  {
   "cell_type": "code",
   "execution_count": 2,
   "metadata": {},
   "outputs": [
    {
     "name": "stdout",
     "output_type": "stream",
     "text": [
      "Introduce the number of minutes to convert: 50\n",
      "50 minutes is equivalent to 0.83 hours\n"
     ]
    }
   ],
   "source": [
    "# In this line we ask the user to input a number of minutes that will be converted to hours.\n",
    "x = int(input(\"Introduce the number of minutes to convert: \"))\n",
    "# Here we convert mathematically minutes to hours following the rule 1 hours is 60 mins.\n",
    "hours = x/60\n",
    "# Finally we print the results and the whole converssion made.\n",
    "print(str(x)+\" minutes is equivalent to \"+str(round(hours, 2))+ \" hours\")"
   ]
  },
  {
   "cell_type": "markdown",
   "metadata": {},
   "source": [
    "The main **objectives** in this notebook have been:\n",
    "- To include the most popular data science languages.\n",
    "- To onclude a list of tool used in data science.\n",
    "- To show in a table some open source programs used in data science.\n",
    "- To display how to use and code arithmetic expressions in a notebook."
   ]
  },
  {
   "cell_type": "markdown",
   "metadata": {},
   "source": [
    "## Author\n",
    "David Lopez Gonzalez."
   ]
  }
 ],
 "metadata": {
  "kernelspec": {
   "display_name": "Python 3.10",
   "language": "python",
   "name": "python3"
  },
  "language_info": {
   "codemirror_mode": {
    "name": "ipython",
    "version": 3
   },
   "file_extension": ".py",
   "mimetype": "text/x-python",
   "name": "python",
   "nbconvert_exporter": "python",
   "pygments_lexer": "ipython3",
   "version": "3.10.9"
  }
 },
 "nbformat": 4,
 "nbformat_minor": 1
}
